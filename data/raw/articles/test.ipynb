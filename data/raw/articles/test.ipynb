{
 "cells": [
  {
   "cell_type": "code",
   "execution_count": 1,
   "metadata": {},
   "outputs": [],
   "source": [
    "import difflib\n",
    "from IPython.display import display, Latex"
   ]
  },
  {
   "cell_type": "code",
   "execution_count": 27,
   "metadata": {},
   "outputs": [],
   "source": [
    "reference = \"\"\"الدَّوْلَةُ لَدَيْها الوَحْدَاتُ الحَاكِمَةُ التَّالِيَةُ:\"\"\"\n",
    "generated = \"\"\"لَدَيْها الدَّوْلَةُ الوَحْدَاتُ الحَاكِمَةُ التَّالِيَةُ:\"\"\""
   ]
  },
  {
   "cell_type": "code",
   "execution_count": 28,
   "metadata": {},
   "outputs": [],
   "source": [
    "s = difflib.SequenceMatcher(None, list(generated), list(reference))"
   ]
  },
  {
   "cell_type": "code",
   "execution_count": 29,
   "metadata": {},
   "outputs": [],
   "source": [
    "insertions = 0\n",
    "deletions = 0\n",
    "matches = 0\n",
    "edits = 0\n",
    "\n",
    "for tag, i1, i2, j1, j2 in s.get_opcodes():\n",
    "    if tag == \"insert\":\n",
    "        insertions += len(reference[j1:j2])\n",
    "    elif tag == \"delete\":\n",
    "        deletions += len(generated[i1:i2])\n",
    "    elif tag == \"replace\":\n",
    "        edits += len(generated[i1:i2])\n",
    "    else:\n",
    "        matches += len(generated[i1:i2])\n"
   ]
  },
  {
   "cell_type": "code",
   "execution_count": 30,
   "metadata": {},
   "outputs": [
    {
     "name": "stdout",
     "output_type": "stream",
     "text": [
      "9 9 49 0\n"
     ]
    }
   ],
   "source": [
    "print(insertions, deletions, matches, edits)"
   ]
  },
  {
   "cell_type": "code",
   "execution_count": 38,
   "metadata": {},
   "outputs": [],
   "source": [
    "reference = \"\"\"مِصْرُ دَوْلَةٌ بالشرقِ الأوسطِ وَشَمَالِ إِفْرِيقْيا\"\"\"\n",
    "generated = \"\"\"مِصْرٌ دَوْلَةٌ ب الشرق الأوسطٍ وَ شَمَالٍ إِفْرِيقْياً\"\"\""
   ]
  },
  {
   "cell_type": "code",
   "execution_count": 39,
   "metadata": {},
   "outputs": [],
   "source": [
    "s = difflib.SequenceMatcher(None, list(generated), list(reference))"
   ]
  },
  {
   "cell_type": "code",
   "execution_count": 40,
   "metadata": {},
   "outputs": [],
   "source": [
    "insertions = 0\n",
    "deletions = 0\n",
    "matches = 0\n",
    "edits = 0\n",
    "\n",
    "for tag, i1, i2, j1, j2 in s.get_opcodes():\n",
    "    if tag == \"insert\":\n",
    "        insertions += len(reference[j1:j2])\n",
    "    elif tag == \"delete\":\n",
    "        deletions += len(generated[i1:i2])\n",
    "    elif tag == \"replace\":\n",
    "        edits += len(generated[i1:i2])\n",
    "    else:\n",
    "        matches += len(generated[i1:i2])"
   ]
  },
  {
   "cell_type": "code",
   "execution_count": 41,
   "metadata": {},
   "outputs": [
    {
     "name": "stdout",
     "output_type": "stream",
     "text": [
      "1 3 49 3\n"
     ]
    }
   ],
   "source": [
    "print(insertions, deletions, matches, edits)"
   ]
  },
  {
   "cell_type": "code",
   "execution_count": null,
   "metadata": {},
   "outputs": [],
   "source": []
  }
 ],
 "metadata": {
  "kernelspec": {
   "display_name": "base",
   "language": "python",
   "name": "python3"
  },
  "language_info": {
   "codemirror_mode": {
    "name": "ipython",
    "version": 3
   },
   "file_extension": ".py",
   "mimetype": "text/x-python",
   "name": "python",
   "nbconvert_exporter": "python",
   "pygments_lexer": "ipython3",
   "version": "3.12.3"
  }
 },
 "nbformat": 4,
 "nbformat_minor": 2
}
