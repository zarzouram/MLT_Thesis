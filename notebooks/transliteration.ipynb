{
 "cells": [
  {
   "cell_type": "markdown",
   "metadata": {},
   "source": [
    "Transliterator Using Python\n",
    "=============="
   ]
  },
  {
   "cell_type": "markdown",
   "metadata": {},
   "source": [
    "# 1.0 Introduction"
   ]
  },
  {
   "cell_type": "markdown",
   "metadata": {},
   "source": [
    "## 1.1 Purpose\n",
    "\n",
    "The purpose of this notebook is to demonstrate the implementation of a\n",
    "transliterator pipeline in Python. A transliterator is a tool that converts\n",
    "text from one script to another, typically preserving the pronunciation of the\n",
    "original text. For example, the name \"Magdalena\" in English could be\n",
    "transliterated to \"مجدلينا\" in Arabic.\n",
    "\n",
    "This notebook focuses on creating a transliterator for Arabic, converting\n",
    "English words into their Arabic equivalents based on their phonetic\n",
    "representation. \n",
    "\n",
    "The current design can be extended to include other languages.\n",
    "\n",
    "This code is based on: https://github.com/AMR-KELEG/English-to-arabic-transphonator/tree/master\n",
    "\n",
    "## 1.2 Transliterator Pipeline\n",
    "\n",
    "The transliterator pipeline consists of three main steps:\n",
    "1. **Phoneme Retrieval**: Extracting the phonetic representation (phonemes) of a given word using a phoneme retriever.\n",
    "2. **Phoneme to Character Mapping**: Converting the retrieved phonemes into corresponding characters in the target language script (Arabic in this case).\n",
    "3. **Postprocessing**: Applying specific language rules to refine the transliterated output, ensuring it adheres to linguistic norms of the target language.\n",
    "\n",
    "## 1.3 Dependencies\n",
    "\n",
    "The implementation relies on the following dependencies:\n",
    "- `g2p_en`: A library for converting English words into ARPAbet phonemes.\n",
    "- `CMU Pronouncing Dictionary`: A fallback option for phoneme retrieval if the `g2p_en` library is unavailable.\n",
    "\n",
    "## 1.4 Implementation\n",
    "\n",
    "The implementation is designed with modularity in mind, allowing different parts of the pipeline to be easily replaced or extended. The core components include:\n",
    "- **Phoneme Retriever**: An interface and its implementations for retrieving phonemes. New retrievers for other languages can be added by implementing the `BasePhonemeRetriever` interface.\n",
    "- **Transliteration Map**: A mapping of phonemes to characters. Developers can create mappings for other languages by extending the `BaseTranslitMap` interface.\n",
    "- **Transliteration Rules**: A set of postprocessing rules to refine the transliteration. Custom rules can be added by implementing the `BaseTranslitRule` interface.\n",
    "\n",
    "For example, to add support for a new language, a developer would need to:\n",
    "- Implement a new phoneme retriever for the language.\n",
    "- Create a new transliteration map for the language.\n",
    "- Define any necessary postprocessing rules specific to that language.\n",
    "\n",
    "## 1.5 Usage\n",
    "\n",
    "This notebook demonstrates how to use the transliterator pipeline to transliterate a list of English words into Arabic. The process involves setting up the phoneme retriever, mapping the phonemes to Arabic characters, applying postprocessing rules, and running the complete pipeline to get the final transliteration."
   ]
  },
  {
   "cell_type": "markdown",
   "metadata": {},
   "source": [
    "# 2.0 Imports"
   ]
  },
  {
   "cell_type": "code",
   "execution_count": 1,
   "metadata": {},
   "outputs": [],
   "source": [
    "from abc import ABC, abstractmethod\n",
    "from typing import List, Union\n",
    "\n",
    "import re"
   ]
  },
  {
   "cell_type": "markdown",
   "metadata": {},
   "source": [
    "# 3.0 Implementation"
   ]
  },
  {
   "cell_type": "markdown",
   "metadata": {},
   "source": [
    "## 3.1 Phoneme Retriever"
   ]
  },
  {
   "cell_type": "markdown",
   "metadata": {},
   "source": [
    "The purpose of the Phoneme Retriever is to extract the phonetic representation of a word."
   ]
  },
  {
   "cell_type": "markdown",
   "metadata": {},
   "source": [
    "### 3.1.1 PhonemeRetriever Interface"
   ]
  },
  {
   "cell_type": "code",
   "execution_count": 2,
   "metadata": {},
   "outputs": [],
   "source": [
    "class BasePhonemeRetriever(ABC):\n",
    "    @abstractmethod\n",
    "    def get_phonemes(self, word: str) -> Union[List[str], None]:\n",
    "        \"\"\"Retrieve phonemes for a given word.\"\"\"\n",
    "        pass\n"
   ]
  },
  {
   "cell_type": "markdown",
   "metadata": {},
   "source": [
    "### 3.1.2 PhonemeRetriever Implementations"
   ]
  },
  {
   "cell_type": "markdown",
   "metadata": {},
   "source": [
    "- **G2pRetriever**: The `g2p_en` library is a tool that converts English text\n",
    "  into ARPAbet phonemes, which are a standardized set of phonetic symbols\n",
    "  representing English sounds. The library predicts words pronunciations that are not in the\n",
    "  CMU dictionary using neural net model."
   ]
  },
  {
   "cell_type": "code",
   "execution_count": 3,
   "metadata": {},
   "outputs": [],
   "source": [
    "class G2pRetriever(BasePhonemeRetriever):\n",
    "    def __init__(self):\n",
    "        \"\"\"Initialize the G2pRetriever, which uses the `g2p_en` library to convert English words into their corresponding ARPAbet phonemes.\n",
    "        \"\"\"\n",
    "        from g2p_en import G2p\n",
    "        self.g2p = G2p()\n",
    "\n",
    "    def get_phonemes(self, word: str) -> Union[List[str], None]:\n",
    "        \"\"\"Retrieve the phonemes for a given word using the `g2p_en` library.\n",
    "\n",
    "        Args:\n",
    "            word (str): The English word for which to retrieve phonemes.\n",
    "\n",
    "        Returns:\n",
    "            list: A list of phonemes corresponding to the input word.\n",
    "                  If the word cannot be converted, an empty list is returned.\n",
    "\n",
    "        Example:\n",
    "            ```\n",
    "            retriever = G2pRetriever()\n",
    "            phonemes = retriever.get_phonemes(\"example\")\n",
    "            # Returns something like ['IH0', 'G', 'Z', 'AE1', 'M', 'P', 'L']\n",
    "\n",
    "            phonemes = retriever.get_phonemes(\"nonexistentword\")\n",
    "            # Returns an empty list if the word cannot be converted\n",
    "            ````\n",
    "        \"\"\"\n",
    "        phonemes = self.g2p(word)\n",
    "        return [p for p in phonemes if re.match(r'[A-Z]+[\\d]?', p)]"
   ]
  },
  {
   "cell_type": "markdown",
   "metadata": {},
   "source": [
    "- CMURetriever: The CMU Pronouncing Dictionary is a widely used resource for phoneme retrieval. It contains mappings of English words to their phonetic representations. This retriever uses the dictionary to find phonemes and includes a fallback mechanism to a custom dictionary if needed."
   ]
  },
  {
   "cell_type": "code",
   "execution_count": 4,
   "metadata": {},
   "outputs": [],
   "source": [
    "class CMURetriever(BasePhonemeRetriever):\n",
    "    def __init__(self, fallback_dict_path=None):\n",
    "        \"\"\"Initialize the CMURetriever with an optional fallback dictionary.\n",
    "\n",
    "        Args:\n",
    "            fallback_dict_path (str, optional): Path to a custom fallback\n",
    "            dictionary file. If provided, this file will be used to supplement\n",
    "            the CMU Pronouncing Dictionary for word-to-phoneme mapping.\n",
    "            Defaults to None.\n",
    "        \"\"\"\n",
    "\n",
    "        self.english_word_to_phoneme = self.load_cmudict()\n",
    "        self.fallback_dict = {}\n",
    "        if fallback_dict_path:\n",
    "            self.fallback_dict = self.load_fallback_dict(fallback_dict_path)\n",
    "\n",
    "    def load_cmudict(self):\n",
    "        \"\"\"Load the CMU dictionary\"\"\"\n",
    "        try:\n",
    "            with open(\n",
    "                file=\"../data/resources/cmudict-0.7b.txt\",\n",
    "                encoding=\"ISO-8859-1\",\n",
    "                mode=\"r\",\n",
    "            ) as file_obj:\n",
    "                english_word_to_phoneme = {}\n",
    "                for line in file_obj:\n",
    "                    if line.startswith(\";;;\"):\n",
    "                        continue\n",
    "                    # Clean up the line and split into word and phonemes\n",
    "                    word_phonemes = re.sub(r\"[0-9]\", \"\", line.strip()).split()\n",
    "                    # The word is the first part, the phonemes are the rest\n",
    "                    word = word_phonemes[0].lower()\n",
    "                    phonemes = word_phonemes[1:]\n",
    "                    # Populate the dictionary\n",
    "                    english_word_to_phoneme[word] = phonemes\n",
    "        except Exception:\n",
    "            raise\n",
    "\n",
    "        return english_word_to_phoneme\n",
    "\n",
    "    def load_fallback_dict(self, fallback_dict_path):\n",
    "        \"\"\"Load the fallback dictionary from a user-provided file.\"\"\"\n",
    "        fallback_dict = {}\n",
    "        try:\n",
    "            with open(fallback_dict_path, \"r\", encoding=\"utf-8\") as f:\n",
    "                for line in f:\n",
    "                    parts = line.strip().split()\n",
    "                    word = parts[0].lower()\n",
    "                    phonemes = parts[1:]\n",
    "                    fallback_dict[word] = phonemes\n",
    "        except Exception:\n",
    "            pass\n",
    "\n",
    "        return fallback_dict\n",
    "\n",
    "    def get_phonemes(self, word: str) -> Union[List[str], None]:\n",
    "        \"\"\"Retrieve the phonemes for a given word using the CMU Pronouncing Dictionary, with an optional fallback to a custom dictionary.\n",
    "\n",
    "        Args:\n",
    "            word (str): The word for which to retrieve the phonemes.\n",
    "\n",
    "        Returns:\n",
    "            list: A list of phonemes corresponding to the input word.\n",
    "                  If the word is not found in either the CMU dictionary or the fallback dictionary,\n",
    "                  None is returned.\n",
    "\n",
    "        Example:\n",
    "            ```\n",
    "            retriever = CMURetriever()\n",
    "            phonemes = retriever.get_phonemes(\"example\")\n",
    "            # Returns something like ['IH0', 'G', 'Z', 'AE1', 'M', 'P', 'L']\n",
    "\n",
    "            phonemes = retriever.get_phonemes(\"nonexistentword\")\n",
    "            # Returns None if the word is not found\n",
    "            ```\n",
    "        \"\"\"\n",
    "        word = word.lower()\n",
    "        phonemes = self.english_word_to_phoneme.get(word)\n",
    "        if phonemes is None:\n",
    "            phonemes = self.fallback_dict.get(word)\n",
    "        return phonemes"
   ]
  },
  {
   "cell_type": "markdown",
   "metadata": {},
   "source": [
    "## 3.2 Phonemes to Charachters Mapping"
   ]
  },
  {
   "cell_type": "markdown",
   "metadata": {},
   "source": [
    "The purpose of this step is to convert the phonetic representation of a word into characters of the target language. This is done by mapping each phoneme to its corresponding character or sequence of characters in the target script (Arabic in this case)."
   ]
  },
  {
   "cell_type": "markdown",
   "metadata": {},
   "source": [
    "### 3.2.1 TransliterationMap Interface"
   ]
  },
  {
   "cell_type": "code",
   "execution_count": 5,
   "metadata": {},
   "outputs": [],
   "source": [
    "class BaseTranslitMap(ABC):\n",
    "    @abstractmethod\n",
    "    def get_equivalent(self, phoneme: str) -> str:\n",
    "        \"\"\"Retrieve the equivalent character for a given phoneme.\"\"\"\n",
    "        pass\n"
   ]
  },
  {
   "cell_type": "markdown",
   "metadata": {},
   "source": [
    "### 3.2.2 TransliterationMap Implementation"
   ]
  },
  {
   "cell_type": "markdown",
   "metadata": {},
   "source": [
    "The `TranslitMapAra` class handles the conversion of ARPAbet phonemes to Arabic characters. The `_common_prefix` method is particularly important as it ensures that the closest matching phoneme is selected, even when there are slight variations in the phonetic representation."
   ]
  },
  {
   "cell_type": "code",
   "execution_count": 6,
   "metadata": {},
   "outputs": [],
   "source": [
    "class TranslitMapAra(BaseTranslitMap):\n",
    "    def __init__(self):\n",
    "        # Phoneme to Arabic equivalent mapping\n",
    "        phonemes = [\n",
    "            'AO0', 'UH0', 'UW0', 'OY0', 'OW0', 'UW1', 'OY1', 'B', 'P', 'NG',\n",
    "            'F', 'V', 'AA0', 'AE0', 'AH0', 'EH0', 'EH2', 'AY0', 'EY0', 'AW0',\n",
    "            'IH0', 'T', 'CH', 'G', 'R', 'K', 'L', 'M', 'HH', 'W', 'N', 'Y',\n",
    "            'PH', 'UX', 'ZH', 'D', 'JH', 'DH', 'ER0', 'ER2', 'Z', 'S', 'SH',\n",
    "            'IY0', 'IX', 'TH', 'AH1'\n",
    "            ]\n",
    "\n",
    "        arabic_equivalent = [\n",
    "            'ُو', 'ُو', 'ُو', 'ُو', 'ُو', 'ُو', 'وي', 'ب', 'ب', 'غ', 'ف', 'ف',\n",
    "            'َا', 'َا', 'َا', 'َا', 'َا', 'َي', 'َي', 'َو', 'ِي', 'ت', 'تش',\n",
    "            'ج', 'ر', 'ك', 'ل', 'م', 'ه', 'و', 'ن', 'ي', 'ف', 'ُو', 'ج', 'د',\n",
    "            'دج', 'ذ', 'ر', 'ر', 'ز', 'س', 'ش', 'ِي', 'ِي', 'ث', 'أُ'\n",
    "            ]\n",
    "        self.transliteration_map = dict(zip(phonemes, arabic_equivalent))\n",
    "\n",
    "    def _common_prefix(self, s1, s2):\n",
    "        \"\"\"\n",
    "        Calculate the length of the common prefix between two strings.\n",
    "\n",
    "        Args:\n",
    "            s1 (str): First string.\n",
    "            s2 (str): Second string.\n",
    "\n",
    "        Returns:\n",
    "            int: Length of the common prefix.\n",
    "        \"\"\"\n",
    "        match_length = 0\n",
    "        for c1, c2 in zip(s1, s2):\n",
    "            if c1 == c2:\n",
    "                match_length += 1\n",
    "            else:\n",
    "                break\n",
    "        return match_length\n",
    "\n",
    "    def get_equivalent(self, phoneme: str) -> str:\n",
    "        \"\"\"\n",
    "        Find the closest Arabic equivalent for a given ARPAbet phoneme.\n",
    "\n",
    "        Args:\n",
    "            phoneme (str): The ARPAbet phoneme to convert.\n",
    "\n",
    "        Returns:\n",
    "            str: The corresponding Arabic character(s).\n",
    "        \"\"\"\n",
    "        available_phonemes = sorted(self.transliteration_map.keys())\n",
    "        matching_prefix_chars = [\n",
    "            self._common_prefix(phoneme, trans_phoneme)\n",
    "            for trans_phoneme in available_phonemes\n",
    "        ]\n",
    "\n",
    "        # Find the index of the maximum prefix match\n",
    "        max_idx = max(\n",
    "            range(len(matching_prefix_chars)), key=lambda i: matching_prefix_chars[i]\n",
    "        )\n",
    "\n",
    "        return self.transliteration_map[available_phonemes[max_idx]]"
   ]
  },
  {
   "cell_type": "markdown",
   "metadata": {},
   "source": [
    "## 3.3 Transliteration (Postprocessing) Rules"
   ]
  },
  {
   "cell_type": "markdown",
   "metadata": {},
   "source": [
    "The purpose of this step is to refine the transliteration by applying language-specific rules. These rules adjust the transliteration to better match the conventions and phonotactics of the target language."
   ]
  },
  {
   "cell_type": "markdown",
   "metadata": {},
   "source": [
    "### 3.3.1 TransliterationRule Interface"
   ]
  },
  {
   "cell_type": "code",
   "execution_count": 7,
   "metadata": {},
   "outputs": [],
   "source": [
    "class BaseTranslitRule(ABC):\n",
    "    @abstractmethod\n",
    "    def apply(self, text: str) -> str:\n",
    "        \"\"\"Apply the rule to the given text and return the modified text.\"\"\"\n",
    "        pass"
   ]
  },
  {
   "cell_type": "markdown",
   "metadata": {},
   "source": [
    "### 3.3.2 TransliterationRule Implementation"
   ]
  },
  {
   "cell_type": "code",
   "execution_count": 8,
   "metadata": {},
   "outputs": [],
   "source": [
    "class TranslitRuleAra(BaseTranslitRule):\n",
    "    def __init__(self):\n",
    "        # Mapping of short vowels to long vowels\n",
    "        self.short_to_long_vowel_dict = {\n",
    "            \"\\u064E\": \"و\",  # Fatha to Waw\n",
    "            \"\\u064F\": \"ا\",  # Damma to Alef\n",
    "            \"\\u0650\": \"ي\",  # Kasra to Ya\n",
    "        }\n",
    "\n",
    "        # Arabic character sets\n",
    "        self.arabic_consonants = [\"ب\", \"ت\", \"ث\", \"ج\", \"ح\", \"د\", \"ذ\", \"ر\", \"ز\", \"س\", \"ش\", \"غ\", \"ف\", \"ق\", \"ك\", \"ل\", \"م\", \"ن\", \"ه\"]\n",
    "\n",
    "        self.arabic_vowels = [\"ا\", \"أ\", \"و\", \"ي\", \"ى\"]\n",
    "        # Fatha, Damma, Kasra (short vowels)\n",
    "        self.arabic_short_vowels = [\"\\u064E\", \"\\u064F\", \"\\u0650\"]\n",
    "\n",
    "    def apply(self, text: str) -> str:\n",
    "        \"\"\"Apply transliteration rules to adjust the Arabic text.\n",
    "\n",
    "        Args:\n",
    "            text (str): The initial Arabic transliteration.\n",
    "\n",
    "        Returns:\n",
    "            str: The adjusted Arabic transliteration.\n",
    "        \"\"\"\n",
    "        arabic_vowels_str = re.escape(\"\".join(self.arabic_vowels))\n",
    "        arabic_consonants_str = re.escape(\"\".join(self.arabic_consonants))\n",
    "        arabic_short_vowels_str = re.escape(\"\".join(self.arabic_short_vowels))\n",
    "\n",
    "        # Rule 1: Handle starting Fatha\n",
    "        text = re.sub(\"^[\\u064E\\u064F]\", \"أ\", text)\n",
    "        text = re.sub(\"^[\\u0650]\", \"إ\", text)\n",
    "\n",
    "        # Rule 2: Replace short vowels at the end\n",
    "        text = re.sub(r'[\\u064E\\u064F\\u0650]$', lambda m: self.short_to_long_vowel_dict[m.group()], text)\n",
    "\n",
    "        # Rule 3: Convert short vowels following consonants to long vowels\n",
    "        groups = re.search(\n",
    "            f\"^([{arabic_vowels_str}][{arabic_consonants_str}])([{arabic_short_vowels_str}])\",\n",
    "            text,\n",
    "        )\n",
    "        if groups:\n",
    "            text = (\n",
    "                groups.group(1)\n",
    "                + self.short_to_long_vowel_dict[groups.group(2)]\n",
    "                + text[3:]\n",
    "            )\n",
    "\n",
    "        # Rule 4: Handle 'ng' sound at the end\n",
    "        text = re.sub(r'نق$', 'نغ', text)\n",
    "\n",
    "        # Rule 5: Handle 'ng' sound in the middle\n",
    "        text = re.sub(r'نق(?=[{0}])'.format(arabic_consonants_str), 'ن', text)\n",
    "\n",
    "        return text"
   ]
  },
  {
   "cell_type": "markdown",
   "metadata": {},
   "source": [
    "## 3.4 Transliterator"
   ]
  },
  {
   "cell_type": "markdown",
   "metadata": {},
   "source": [
    "The purpose of the Transliterator is to bring together all the components—phoneme retrieval, phoneme to character mapping, and postprocessing rules—into a single process that can transliterate words from one language script to another."
   ]
  },
  {
   "cell_type": "markdown",
   "metadata": {},
   "source": [
    "### 3.4.1 Transliterator Interface"
   ]
  },
  {
   "cell_type": "code",
   "execution_count": 9,
   "metadata": {},
   "outputs": [],
   "source": [
    "class BaseTransliterator(ABC):\n",
    "    @abstractmethod\n",
    "    def transphonate(self, word: str) -> Union[str, None]:\n",
    "        pass"
   ]
  },
  {
   "cell_type": "markdown",
   "metadata": {},
   "source": [
    "### 3.4.2 Translitertor PipeLine Implementation"
   ]
  },
  {
   "cell_type": "markdown",
   "metadata": {},
   "source": [
    "The `TranslitPipeline` class implements the pipeline pattern, where each step of the transliteration process is executed in sequence."
   ]
  },
  {
   "cell_type": "code",
   "execution_count": 10,
   "metadata": {},
   "outputs": [],
   "source": [
    "class TranslitPipeline(BaseTransliterator):\n",
    "    def __init__(\n",
    "        self,\n",
    "        phoneme_retriever: BasePhonemeRetriever,\n",
    "        transliteration_map: BaseTranslitMap,\n",
    "        transliteration_rules: BaseTranslitRule,\n",
    "    ):\n",
    "        self.phoneme_retriever = phoneme_retriever\n",
    "        self.transliteration_map = transliteration_map\n",
    "        self.transliteration_rules = transliteration_rules\n",
    "\n",
    "    def transphonate(self, word: str) -> Union[str, None]:\n",
    "        \"\"\"Transphonate a word into the target language.\"\"\"\n",
    "\n",
    "        phonemes = self.phoneme_retriever.get_phonemes(word)\n",
    "        if not phonemes:\n",
    "            return None\n",
    "\n",
    "        phonemes_equivelant = [\n",
    "            self.transliteration_map.get_equivalent(phoneme)\n",
    "            for phoneme in phonemes\n",
    "        ]\n",
    "        phonemes_equivelant = \"\".join(phonemes_equivelant)\n",
    "\n",
    "        transliteration = self.transliteration_rules.apply(phonemes_equivelant)\n",
    "\n",
    "        return transliteration"
   ]
  },
  {
   "cell_type": "markdown",
   "metadata": {},
   "source": [
    "# 4.0 Usage: Arabic Transliterator"
   ]
  },
  {
   "cell_type": "code",
   "execution_count": 11,
   "metadata": {},
   "outputs": [],
   "source": [
    "# Step 1: Create Phoneme Retriever\n",
    "\n",
    "def create_phoneme_retriever_ar(\n",
    "    fallback_dict_path=None,\n",
    ") -> BasePhonemeRetriever:\n",
    "    try:\n",
    "        return G2pRetriever()\n",
    "    except ImportError:\n",
    "        return CMURetriever(fallback_dict_path=fallback_dict_path)"
   ]
  },
  {
   "cell_type": "code",
   "execution_count": 12,
   "metadata": {},
   "outputs": [],
   "source": [
    "phoneme_retriever_ar = create_phoneme_retriever_ar()"
   ]
  },
  {
   "cell_type": "code",
   "execution_count": 13,
   "metadata": {},
   "outputs": [],
   "source": [
    "# Step 2: Mapping list of phonemes to list of charachters\n",
    "transliteration_map_ar = TranslitMapAra()"
   ]
  },
  {
   "cell_type": "code",
   "execution_count": 14,
   "metadata": {},
   "outputs": [],
   "source": [
    "# Step 3: Postprocessing the converted phonemes\n",
    "transliteration_rules_ar = TranslitRuleAra()"
   ]
  },
  {
   "cell_type": "code",
   "execution_count": 15,
   "metadata": {},
   "outputs": [],
   "source": [
    "# Step 4: Create Pipeline\n",
    "transliteration_pipline_ar = TranslitPipeline(\n",
    "    phoneme_retriever_ar,\n",
    "    transliteration_map_ar,\n",
    "    transliteration_rules_ar\n",
    "    )"
   ]
  },
  {
   "cell_type": "code",
   "execution_count": 16,
   "metadata": {},
   "outputs": [
    {
     "name": "stdout",
     "output_type": "stream",
     "text": [
      "Magdalena مَاجدَالِينَا\n",
      "kristersson كرِيسترسَان\n",
      "Naruhito نَارُوهِيتُو\n",
      "Ulf أُلف\n",
      "this ذِيس\n",
      "is إيز\n"
     ]
    }
   ],
   "source": [
    "# Step 5: Run the pipeline\n",
    "words = \"Magdalena kristersson Naruhito Ulf this is\".split()\n",
    "for word in words:\n",
    "    print(word, transliteration_pipline_ar.transphonate(word))"
   ]
  },
  {
   "cell_type": "code",
   "execution_count": 17,
   "metadata": {},
   "outputs": [
    {
     "data": {
      "text/plain": [
       "['K', 'R', 'IH1', 'S', 'T', 'ER0', 'S', 'AH0', 'N']"
      ]
     },
     "execution_count": 17,
     "metadata": {},
     "output_type": "execute_result"
    }
   ],
   "source": [
    "from g2p_en import G2p\n",
    "G2p()(\"kristersson\")"
   ]
  },
  {
   "cell_type": "code",
   "execution_count": null,
   "metadata": {},
   "outputs": [],
   "source": []
  }
 ],
 "metadata": {
  "kernelspec": {
   "display_name": "thss-m",
   "language": "python",
   "name": "python3"
  },
  "language_info": {
   "codemirror_mode": {
    "name": "ipython",
    "version": 3
   },
   "file_extension": ".py",
   "mimetype": "text/x-python",
   "name": "python",
   "nbconvert_exporter": "python",
   "pygments_lexer": "ipython3",
   "version": "3.9.16"
  }
 },
 "nbformat": 4,
 "nbformat_minor": 2
}
