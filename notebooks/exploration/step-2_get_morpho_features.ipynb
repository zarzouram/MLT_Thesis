{
 "cells": [
  {
   "cell_type": "markdown",
   "metadata": {},
   "source": [
    "# 1.0 Imports"
   ]
  },
  {
   "cell_type": "code",
   "execution_count": 1,
   "metadata": {},
   "outputs": [],
   "source": [
    "import gzip\n",
    "import json\n",
    "from pathlib import Path\n",
    "from typing import Dict, List\n",
    "from unicodedata import normalize\n",
    "\n",
    "import pandas as pd\n",
    "from pyarabic.araby import DIACRITICS, SHADDA, is_arabicword, name, vocalizedlike"
   ]
  },
  {
   "cell_type": "markdown",
   "metadata": {},
   "source": [
    "## 3.0 Define Variables"
   ]
  },
  {
   "cell_type": "code",
   "execution_count": 2,
   "metadata": {},
   "outputs": [],
   "source": [
    "DIACRITICS = set(DIACRITICS)  # Aabic diacritics/short vowels"
   ]
  },
  {
   "cell_type": "markdown",
   "metadata": {},
   "source": [
    "# 2.0 Define Paths"
   ]
  },
  {
   "cell_type": "markdown",
   "metadata": {},
   "source": []
  },
  {
   "cell_type": "code",
   "execution_count": 3,
   "metadata": {},
   "outputs": [],
   "source": [
    "# Path for preproceed Wikitionary\n",
    "wiktionary_dir = Path(\"../../data/processed/wikidata\")\n",
    "wiki_jsonl_path = wiktionary_dir / \"ar-wiktextract-data.json.gz\"\n",
    "wiki_indices_path = wiktionary_dir / \"ar_reindex.json.gz\""
   ]
  },
  {
   "cell_type": "code",
   "execution_count": 4,
   "metadata": {},
   "outputs": [],
   "source": [
    "# Arabic GF-Wordnet\n",
    "data_dir = Path(\"../../data/interim/\")\n",
    "ar_words_gf_path = data_dir / \"word_unambiguous.csv\""
   ]
  },
  {
   "cell_type": "code",
   "execution_count": 5,
   "metadata": {},
   "outputs": [],
   "source": [
    "output_dir = Path(\"../../data/processed\")"
   ]
  },
  {
   "cell_type": "markdown",
   "metadata": {},
   "source": [
    "## 4.0 Define Functions"
   ]
  },
  {
   "cell_type": "markdown",
   "metadata": {},
   "source": [
    "### 4.1 Utilities Functions"
   ]
  },
  {
   "cell_type": "code",
   "execution_count": 6,
   "metadata": {},
   "outputs": [],
   "source": [
    "def reorder_shadda(ar_string: str) -> str:\n",
    "    \"\"\"unicodedata.normalize put shadda before diacritics; not correct\"\"\"\n",
    "    list_ar_str = list(ar_string)\n",
    "\n",
    "    for i in range(len(list_ar_str) - 1):\n",
    "        char = list_ar_str[i]\n",
    "        next_char = list_ar_str[i + 1]\n",
    "\n",
    "        if char in DIACRITICS and next_char == SHADDA:\n",
    "            list_ar_str[i], list_ar_str[i + 1] = (\n",
    "                next_char,\n",
    "                char,\n",
    "            )  # Swap shadda and diacritic\n",
    "\n",
    "    return \"\".join(list_ar_str)"
   ]
  },
  {
   "cell_type": "code",
   "execution_count": 7,
   "metadata": {},
   "outputs": [],
   "source": [
    "def normalize_ar(ar_vocalized: str, verbose: bool = False) -> str:\n",
    "    \"\"\"get the normal form for the Unicode string unistr using NFC then fix the shadda order issue\"\"\"\n",
    "    ar_norm = normalize(\"NFC\", ar_vocalized)\n",
    "    ar_norm = reorder_shadda(ar_norm)\n",
    "    if verbose:\n",
    "        print([name(char) for char in ar_norm])\n",
    "    return ar_norm"
   ]
  },
  {
   "cell_type": "markdown",
   "metadata": {},
   "source": [
    "## 3.0 Load Files"
   ]
  },
  {
   "cell_type": "code",
   "execution_count": 8,
   "metadata": {},
   "outputs": [
    {
     "name": "stdout",
     "output_type": "stream",
     "text": [
      "Reading line-876\r"
     ]
    },
    {
     "name": "stdout",
     "output_type": "stream",
     "text": [
      "Reading line-128636\r"
     ]
    }
   ],
   "source": [
    "# 1. load the wikitionary\n",
    "with gzip.open(wiki_jsonl_path, \"rt\", encoding=\"utf-8\") as gzip_obj:\n",
    "    wikitionary = []\n",
    "    for i, json_line in enumerate(gzip_obj):\n",
    "        wikitionary.append(dict(json.loads(json_line)))\n",
    "        print(f\"Reading line-{i}\", end=\"\\r\")"
   ]
  },
  {
   "cell_type": "code",
   "execution_count": 9,
   "metadata": {},
   "outputs": [],
   "source": [
    "# 2. load the csv arabic-english_gf words\n",
    "df_ar_gf = pd.read_csv(ar_words_gf_path, delimiter=\"\\t\", index_col=0, converters={\"senses\": pd.eval})"
   ]
  },
  {
   "cell_type": "code",
   "execution_count": 10,
   "metadata": {},
   "outputs": [],
   "source": [
    "df_ar_gf = df_ar_gf[df_ar_gf[\"select\"] == 1]"
   ]
  },
  {
   "cell_type": "markdown",
   "metadata": {},
   "source": [
    "# 4.0 Extract Morphology Feature"
   ]
  },
  {
   "cell_type": "markdown",
   "metadata": {},
   "source": [
    "## 4.1 Gender"
   ]
  },
  {
   "cell_type": "code",
   "execution_count": 11,
   "metadata": {},
   "outputs": [],
   "source": [
    "def get_gender(row, wiktionary):\n",
    "    wiki_idx: int = row[\"wiki_idx\"]\n",
    "    entry: Dict[int, dict] = wiktionary[wiki_idx]\n",
    "    for _, word_data in entry.items():\n",
    "        categories: List[str] = word_data.get(\"categories\", [])\n",
    "        for category in categories:\n",
    "            masculine = category.find(\"masculine\") != -1\n",
    "            feminine = category.find(\"feminine\") != -1\n",
    "            if masculine and feminine:\n",
    "                return \"N\"\n",
    "            elif masculine:\n",
    "                return \"masc\"\n",
    "            elif feminine:\n",
    "                return \"fem\"\n",
    "        return pd.NA"
   ]
  },
  {
   "cell_type": "code",
   "execution_count": 12,
   "metadata": {},
   "outputs": [],
   "source": [
    "def get_gender_(row, wiktionary):\n",
    "    wiki_idx: int = row[\"wiki_idx\"]\n",
    "    form: str = normalize_ar(row[\"vocal_forms\"])\n",
    "    entry: Dict[int, dict] = wiktionary[wiki_idx]\n",
    "    for _, word_data in entry.items():\n",
    "        word_forms: List[dict] = word_data.get(\"forms\", [])\n",
    "        for form_dict in word_forms:\n",
    "            if vocalizedlike(form, normalize_ar(form_dict[\"form\"])):\n",
    "                tags = form_dict.get(\"tags\", [None])\n",
    "                masculine = \"masculine\" in tags\n",
    "                feminine = \"feminine\" in tags\n",
    "                if masculine and feminine:\n",
    "                    return \"N\"\n",
    "                elif masculine:\n",
    "                    return \"masc\"\n",
    "                elif feminine:\n",
    "                    return \"fem\"\n"
   ]
  },
  {
   "cell_type": "code",
   "execution_count": 13,
   "metadata": {},
   "outputs": [],
   "source": [
    "def get_noun_plural(entry):\n",
    "    for _, word_data in entry.items():\n",
    "        word_forms = word_data.get(\"forms\", [])\n",
    "        for form_dict in word_forms:\n",
    "            if \"plural\" == form_dict.get(\"tags\", [None])[0]:\n",
    "                return form_dict[\"form\"]\n",
    "        inflections = word_data.get(\"head_templates\", [])\n",
    "        for dict_inflection in inflections:\n",
    "            plural = dict_inflection.get(\"args\", {}).get(\"pl\", None)\n",
    "            if plural is not None:\n",
    "                if is_arabicword(plural):\n",
    "                    return plural\n",
    "                elif plural == \"-\":\n",
    "                    return \"غير معدود\"\n",
    "                return \"جمع سالم\"\n",
    "    return pd.NA"
   ]
  },
  {
   "cell_type": "code",
   "execution_count": 14,
   "metadata": {},
   "outputs": [],
   "source": [
    "def get_adj_plural(entry):\n",
    "    for _, word_data in entry.items():\n",
    "        word_forms = word_data.get(\"forms\", [])\n",
    "        for form_dict in word_forms:\n",
    "            if ['masculine', 'plural'] == form_dict.get(\"tags\", [None]):\n",
    "                return form_dict[\"form\"]\n",
    "    return pd.NA"
   ]
  },
  {
   "cell_type": "code",
   "execution_count": 15,
   "metadata": {},
   "outputs": [],
   "source": [
    "def get_plural(row, wikitionary):\n",
    "    wiki_idx = row[\"wiki_idx\"]\n",
    "    pos = row[\"pos\"]\n",
    "    entry = wikitionary[wiki_idx]\n",
    "    if pos == \"noun\":\n",
    "        return get_noun_plural(entry)\n",
    "    elif pos == \"adj\":\n",
    "        return get_adj_plural(entry)\n",
    "    else:\n",
    "        return pd.NA"
   ]
  },
  {
   "cell_type": "code",
   "execution_count": 16,
   "metadata": {},
   "outputs": [],
   "source": [
    "df_ar_gf_nouns = df_ar_gf.copy()[df_ar_gf[\"pos\"] == \"noun\"]\n",
    "df_ar_gf_adjs = df_ar_gf.copy()[df_ar_gf[\"pos\"] == \"adj\"]"
   ]
  },
  {
   "cell_type": "code",
   "execution_count": 17,
   "metadata": {},
   "outputs": [
    {
     "data": {
      "text/plain": [
       "gender\n",
       "masc    40\n",
       "fem     18\n",
       "Name: count, dtype: int64"
      ]
     },
     "execution_count": 17,
     "metadata": {},
     "output_type": "execute_result"
    }
   ],
   "source": [
    "df_ar_gf_nouns[\"gender\"] = df_ar_gf_nouns.apply(get_gender, args=(wikitionary,), axis=\"columns\")\n",
    "df_ar_gf_nouns[\"gender\"].value_counts()"
   ]
  },
  {
   "cell_type": "code",
   "execution_count": 18,
   "metadata": {},
   "outputs": [
    {
     "data": {
      "text/plain": [
       "plural\n",
       "False    36\n",
       "True     22\n",
       "Name: count, dtype: int64"
      ]
     },
     "execution_count": 18,
     "metadata": {},
     "output_type": "execute_result"
    }
   ],
   "source": [
    "df_ar_gf_nouns[\"plural\"] = df_ar_gf_nouns.apply(get_plural, args=(wikitionary,), axis=\"columns\")\n",
    "df_ar_gf_nouns[\"plural\"].isna().value_counts()"
   ]
  },
  {
   "cell_type": "code",
   "execution_count": 19,
   "metadata": {},
   "outputs": [
    {
     "data": {
      "text/plain": [
       "gender\n",
       "masc    18\n",
       "Name: count, dtype: int64"
      ]
     },
     "execution_count": 19,
     "metadata": {},
     "output_type": "execute_result"
    }
   ],
   "source": [
    "df_ar_gf_adjs[\"gender\"] = df_ar_gf_adjs.apply(get_gender_, args=(wikitionary,), axis=\"columns\")\n",
    "df_ar_gf_adjs[\"gender\"].value_counts()"
   ]
  },
  {
   "cell_type": "code",
   "execution_count": 21,
   "metadata": {},
   "outputs": [
    {
     "data": {
      "text/plain": [
       "plural\n",
       "False    18\n",
       "Name: count, dtype: int64"
      ]
     },
     "execution_count": 21,
     "metadata": {},
     "output_type": "execute_result"
    }
   ],
   "source": [
    "df_ar_gf_adjs[\"plural\"] = df_ar_gf_adjs.apply(get_plural, args=(wikitionary,), axis=\"columns\")\n",
    "df_ar_gf_adjs[\"plural\"].isna().value_counts()"
   ]
  },
  {
   "cell_type": "code",
   "execution_count": null,
   "metadata": {},
   "outputs": [],
   "source": []
  }
 ],
 "metadata": {
  "kernelspec": {
   "display_name": "thss-m",
   "language": "python",
   "name": "python3"
  },
  "language_info": {
   "codemirror_mode": {
    "name": "ipython",
    "version": 3
   },
   "file_extension": ".py",
   "mimetype": "text/x-python",
   "name": "python",
   "nbconvert_exporter": "python",
   "pygments_lexer": "ipython3",
   "version": "3.9.16"
  }
 },
 "nbformat": 4,
 "nbformat_minor": 2
}
